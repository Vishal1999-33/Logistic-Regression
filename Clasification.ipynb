{
 "cells": [
  {
   "cell_type": "code",
   "execution_count": 1,
   "metadata": {},
   "outputs": [],
   "source": [
    "import pandas as pd\n",
    "import numpy as np\n",
    "from sklearn import preprocessing\n",
    "import matplotlib.pyplot as plt \n",
    "plt.rc(\"font\", size=14)\n",
    "from sklearn.linear_model import LogisticRegression\n",
    "from sklearn.model_selection import train_test_split\n",
    "import seaborn as sns\n",
    "sns.set(style=\"white\")\n",
    "sns.set(style=\"whitegrid\", color_codes=True)"
   ]
  },
  {
   "cell_type": "code",
   "execution_count": 2,
   "metadata": {},
   "outputs": [
    {
     "name": "stdout",
     "output_type": "stream",
     "text": [
      "(45211, 17)\n",
      "['age', 'job', 'marital', 'education', 'default', 'balance', 'housing', 'loan', 'contact', 'day', 'month', 'duration', 'campaign', 'pdays', 'previous', 'poutcome', 'y']\n"
     ]
    }
   ],
   "source": [
    "data=pd.read_csv('bank-full.csv',sep=';')\n",
    "data=data.dropna()\n",
    "print(data.shape)\n",
    "print(list(data.columns))"
   ]
  },
  {
   "cell_type": "code",
   "execution_count": 3,
   "metadata": {},
   "outputs": [
    {
     "data": {
      "text/html": [
       "<div>\n",
       "<style scoped>\n",
       "    .dataframe tbody tr th:only-of-type {\n",
       "        vertical-align: middle;\n",
       "    }\n",
       "\n",
       "    .dataframe tbody tr th {\n",
       "        vertical-align: top;\n",
       "    }\n",
       "\n",
       "    .dataframe thead th {\n",
       "        text-align: right;\n",
       "    }\n",
       "</style>\n",
       "<table border=\"1\" class=\"dataframe\">\n",
       "  <thead>\n",
       "    <tr style=\"text-align: right;\">\n",
       "      <th></th>\n",
       "      <th>age</th>\n",
       "      <th>job</th>\n",
       "      <th>marital</th>\n",
       "      <th>education</th>\n",
       "      <th>default</th>\n",
       "      <th>balance</th>\n",
       "      <th>housing</th>\n",
       "      <th>loan</th>\n",
       "      <th>contact</th>\n",
       "      <th>day</th>\n",
       "      <th>month</th>\n",
       "      <th>duration</th>\n",
       "      <th>campaign</th>\n",
       "      <th>pdays</th>\n",
       "      <th>previous</th>\n",
       "      <th>poutcome</th>\n",
       "      <th>y</th>\n",
       "    </tr>\n",
       "  </thead>\n",
       "  <tbody>\n",
       "    <tr>\n",
       "      <th>0</th>\n",
       "      <td>58</td>\n",
       "      <td>management</td>\n",
       "      <td>married</td>\n",
       "      <td>tertiary</td>\n",
       "      <td>no</td>\n",
       "      <td>2143</td>\n",
       "      <td>yes</td>\n",
       "      <td>no</td>\n",
       "      <td>unknown</td>\n",
       "      <td>5</td>\n",
       "      <td>may</td>\n",
       "      <td>261</td>\n",
       "      <td>1</td>\n",
       "      <td>-1</td>\n",
       "      <td>0</td>\n",
       "      <td>unknown</td>\n",
       "      <td>no</td>\n",
       "    </tr>\n",
       "    <tr>\n",
       "      <th>1</th>\n",
       "      <td>44</td>\n",
       "      <td>technician</td>\n",
       "      <td>single</td>\n",
       "      <td>secondary</td>\n",
       "      <td>no</td>\n",
       "      <td>29</td>\n",
       "      <td>yes</td>\n",
       "      <td>no</td>\n",
       "      <td>unknown</td>\n",
       "      <td>5</td>\n",
       "      <td>may</td>\n",
       "      <td>151</td>\n",
       "      <td>1</td>\n",
       "      <td>-1</td>\n",
       "      <td>0</td>\n",
       "      <td>unknown</td>\n",
       "      <td>no</td>\n",
       "    </tr>\n",
       "    <tr>\n",
       "      <th>2</th>\n",
       "      <td>33</td>\n",
       "      <td>entrepreneur</td>\n",
       "      <td>married</td>\n",
       "      <td>secondary</td>\n",
       "      <td>no</td>\n",
       "      <td>2</td>\n",
       "      <td>yes</td>\n",
       "      <td>yes</td>\n",
       "      <td>unknown</td>\n",
       "      <td>5</td>\n",
       "      <td>may</td>\n",
       "      <td>76</td>\n",
       "      <td>1</td>\n",
       "      <td>-1</td>\n",
       "      <td>0</td>\n",
       "      <td>unknown</td>\n",
       "      <td>no</td>\n",
       "    </tr>\n",
       "    <tr>\n",
       "      <th>3</th>\n",
       "      <td>47</td>\n",
       "      <td>blue-collar</td>\n",
       "      <td>married</td>\n",
       "      <td>unknown</td>\n",
       "      <td>no</td>\n",
       "      <td>1506</td>\n",
       "      <td>yes</td>\n",
       "      <td>no</td>\n",
       "      <td>unknown</td>\n",
       "      <td>5</td>\n",
       "      <td>may</td>\n",
       "      <td>92</td>\n",
       "      <td>1</td>\n",
       "      <td>-1</td>\n",
       "      <td>0</td>\n",
       "      <td>unknown</td>\n",
       "      <td>no</td>\n",
       "    </tr>\n",
       "    <tr>\n",
       "      <th>4</th>\n",
       "      <td>33</td>\n",
       "      <td>unknown</td>\n",
       "      <td>single</td>\n",
       "      <td>unknown</td>\n",
       "      <td>no</td>\n",
       "      <td>1</td>\n",
       "      <td>no</td>\n",
       "      <td>no</td>\n",
       "      <td>unknown</td>\n",
       "      <td>5</td>\n",
       "      <td>may</td>\n",
       "      <td>198</td>\n",
       "      <td>1</td>\n",
       "      <td>-1</td>\n",
       "      <td>0</td>\n",
       "      <td>unknown</td>\n",
       "      <td>no</td>\n",
       "    </tr>\n",
       "  </tbody>\n",
       "</table>\n",
       "</div>"
      ],
      "text/plain": [
       "   age           job  marital  education default  balance housing loan  \\\n",
       "0   58    management  married   tertiary      no     2143     yes   no   \n",
       "1   44    technician   single  secondary      no       29     yes   no   \n",
       "2   33  entrepreneur  married  secondary      no        2     yes  yes   \n",
       "3   47   blue-collar  married    unknown      no     1506     yes   no   \n",
       "4   33       unknown   single    unknown      no        1      no   no   \n",
       "\n",
       "   contact  day month  duration  campaign  pdays  previous poutcome   y  \n",
       "0  unknown    5   may       261         1     -1         0  unknown  no  \n",
       "1  unknown    5   may       151         1     -1         0  unknown  no  \n",
       "2  unknown    5   may        76         1     -1         0  unknown  no  \n",
       "3  unknown    5   may        92         1     -1         0  unknown  no  \n",
       "4  unknown    5   may       198         1     -1         0  unknown  no  "
      ]
     },
     "execution_count": 3,
     "metadata": {},
     "output_type": "execute_result"
    }
   ],
   "source": [
    "data.head()"
   ]
  },
  {
   "cell_type": "code",
   "execution_count": 4,
   "metadata": {},
   "outputs": [
    {
     "data": {
      "text/plain": [
       "array([ 1,  2,  3,  5,  4,  6,  7,  8,  9, 10, 11, 12, 13, 19, 14, 24, 16,\n",
       "       32, 18, 22, 15, 17, 25, 21, 43, 51, 63, 41, 26, 28, 55, 50, 38, 23,\n",
       "       20, 29, 31, 37, 30, 46, 27, 58, 33, 35, 34, 36, 39, 44],\n",
       "      dtype=int64)"
      ]
     },
     "execution_count": 4,
     "metadata": {},
     "output_type": "execute_result"
    }
   ],
   "source": [
    "data['campaign'].unique()"
   ]
  },
  {
   "cell_type": "code",
   "execution_count": 5,
   "metadata": {},
   "outputs": [
    {
     "data": {
      "text/plain": [
       "array(['tertiary', 'secondary', 'unknown', 'primary'], dtype=object)"
      ]
     },
     "execution_count": 5,
     "metadata": {},
     "output_type": "execute_result"
    }
   ],
   "source": [
    "data['education'].unique()"
   ]
  },
  {
   "cell_type": "code",
   "execution_count": 6,
   "metadata": {},
   "outputs": [
    {
     "data": {
      "text/plain": [
       "0         no\n",
       "1         no\n",
       "2         no\n",
       "3         no\n",
       "4         no\n",
       "5         no\n",
       "6         no\n",
       "7         no\n",
       "8         no\n",
       "9         no\n",
       "10        no\n",
       "11        no\n",
       "12        no\n",
       "13        no\n",
       "14        no\n",
       "15        no\n",
       "16        no\n",
       "17        no\n",
       "18        no\n",
       "19        no\n",
       "20        no\n",
       "21        no\n",
       "22        no\n",
       "23        no\n",
       "24        no\n",
       "25        no\n",
       "26        no\n",
       "27        no\n",
       "28        no\n",
       "29        no\n",
       "        ... \n",
       "45181     no\n",
       "45182    yes\n",
       "45183     no\n",
       "45184     no\n",
       "45185    yes\n",
       "45186     no\n",
       "45187    yes\n",
       "45188    yes\n",
       "45189     no\n",
       "45190    yes\n",
       "45191    yes\n",
       "45192    yes\n",
       "45193    yes\n",
       "45194     no\n",
       "45195    yes\n",
       "45196    yes\n",
       "45197    yes\n",
       "45198     no\n",
       "45199     no\n",
       "45200    yes\n",
       "45201    yes\n",
       "45202    yes\n",
       "45203    yes\n",
       "45204    yes\n",
       "45205    yes\n",
       "45206    yes\n",
       "45207    yes\n",
       "45208    yes\n",
       "45209     no\n",
       "45210     no\n",
       "Name: y, Length: 45211, dtype: object"
      ]
     },
     "execution_count": 6,
     "metadata": {},
     "output_type": "execute_result"
    }
   ],
   "source": [
    "data['y']"
   ]
  },
  {
   "cell_type": "code",
   "execution_count": 7,
   "metadata": {},
   "outputs": [],
   "source": [
    "x=[]\n",
    "for i in data['y']:\n",
    "    if i==\"no\":\n",
    "        x.append(0)\n",
    "    else:\n",
    "        x.append(1)"
   ]
  },
  {
   "cell_type": "code",
   "execution_count": 8,
   "metadata": {},
   "outputs": [],
   "source": [
    "data['y']=x\n"
   ]
  },
  {
   "cell_type": "code",
   "execution_count": 9,
   "metadata": {},
   "outputs": [
    {
     "data": {
      "text/plain": [
       "0    39922\n",
       "1     5289\n",
       "Name: y, dtype: int64"
      ]
     },
     "execution_count": 9,
     "metadata": {},
     "output_type": "execute_result"
    }
   ],
   "source": [
    "data['y'].value_counts()"
   ]
  },
  {
   "cell_type": "code",
   "execution_count": 10,
   "metadata": {},
   "outputs": [
    {
     "data": {
      "image/png": "[encoded data removed]",
      "text/plain": [
       "<Figure size 432x288 with 1 Axes>"
      ]
     },
     "metadata": {
      "needs_background": "light"
     },
     "output_type": "display_data"
    },
    {
     "data": {
      "text/plain": [
       "<Figure size 432x288 with 0 Axes>"
      ]
     },
     "metadata": {},
     "output_type": "display_data"
    }
   ],
   "source": [
    "sns.countplot(x='y',data=data,palette='rocket')\n",
    "plt.show()\n",
    "plt.savefig('count_plot')"
   ]
  },
  {
   "cell_type": "code",
   "execution_count": 11,
   "metadata": {},
   "outputs": [
    {
     "name": "stdout",
     "output_type": "stream",
     "text": [
      "percentage of no subscription is 88.30151954170445\n",
      "percentage of subscription 11.698480458295547\n"
     ]
    }
   ],
   "source": [
    "count_no_sub = len(data[data['y']==0])\n",
    "count_sub = len(data[data['y']==1])\n",
    "pct_of_no_sub = count_no_sub/(count_no_sub+count_sub)\n",
    "print(\"percentage of no subscription is\", pct_of_no_sub*100)\n",
    "pct_of_sub = count_sub/(count_no_sub+count_sub)\n",
    "print(\"percentage of subscription\", pct_of_sub*100)"
   ]
  },
  {
   "cell_type": "code",
   "execution_count": 12,
   "metadata": {},
   "outputs": [
    {
     "data": {
      "text/html": [
       "<div>\n",
       "<style scoped>\n",
       "    .dataframe tbody tr th:only-of-type {\n",
       "        vertical-align: middle;\n",
       "    }\n",
       "\n",
       "    .dataframe tbody tr th {\n",
       "        vertical-align: top;\n",
       "    }\n",
       "\n",
       "    .dataframe thead th {\n",
       "        text-align: right;\n",
       "    }\n",
       "</style>\n",
       "<table border=\"1\" class=\"dataframe\">\n",
       "  <thead>\n",
       "    <tr style=\"text-align: right;\">\n",
       "      <th></th>\n",
       "      <th>age</th>\n",
       "      <th>balance</th>\n",
       "      <th>day</th>\n",
       "      <th>duration</th>\n",
       "      <th>campaign</th>\n",
       "      <th>pdays</th>\n",
       "      <th>previous</th>\n",
       "    </tr>\n",
       "    <tr>\n",
       "      <th>y</th>\n",
       "      <th></th>\n",
       "      <th></th>\n",
       "      <th></th>\n",
       "      <th></th>\n",
       "      <th></th>\n",
       "      <th></th>\n",
       "      <th></th>\n",
       "    </tr>\n",
       "  </thead>\n",
       "  <tbody>\n",
       "    <tr>\n",
       "      <th>0</th>\n",
       "      <td>40.838986</td>\n",
       "      <td>1303.714969</td>\n",
       "      <td>15.892290</td>\n",
       "      <td>221.182806</td>\n",
       "      <td>2.846350</td>\n",
       "      <td>36.421372</td>\n",
       "      <td>0.502154</td>\n",
       "    </tr>\n",
       "    <tr>\n",
       "      <th>1</th>\n",
       "      <td>41.670070</td>\n",
       "      <td>1804.267915</td>\n",
       "      <td>15.158253</td>\n",
       "      <td>537.294574</td>\n",
       "      <td>2.141047</td>\n",
       "      <td>68.702968</td>\n",
       "      <td>1.170354</td>\n",
       "    </tr>\n",
       "  </tbody>\n",
       "</table>\n",
       "</div>"
      ],
      "text/plain": [
       "         age      balance        day    duration  campaign      pdays  \\\n",
       "y                                                                       \n",
       "0  40.838986  1303.714969  15.892290  221.182806  2.846350  36.421372   \n",
       "1  41.670070  1804.267915  15.158253  537.294574  2.141047  68.702968   \n",
       "\n",
       "   previous  \n",
       "y            \n",
       "0  0.502154  \n",
       "1  1.170354  "
      ]
     },
     "execution_count": 12,
     "metadata": {},
     "output_type": "execute_result"
    }
   ],
   "source": [
    "data.groupby(['y']).mean()"
   ]
  },
  {
   "cell_type": "code",
   "execution_count": 13,
   "metadata": {},
   "outputs": [
    {
     "data": {
      "text/html": [
       "<div>\n",
       "<style scoped>\n",
       "    .dataframe tbody tr th:only-of-type {\n",
       "        vertical-align: middle;\n",
       "    }\n",
       "\n",
       "    .dataframe tbody tr th {\n",
       "        vertical-align: top;\n",
       "    }\n",
       "\n",
       "    .dataframe thead th {\n",
       "        text-align: right;\n",
       "    }\n",
       "</style>\n",
       "<table border=\"1\" class=\"dataframe\">\n",
       "  <thead>\n",
       "    <tr style=\"text-align: right;\">\n",
       "      <th></th>\n",
       "      <th>age</th>\n",
       "      <th>balance</th>\n",
       "      <th>day</th>\n",
       "      <th>duration</th>\n",
       "      <th>campaign</th>\n",
       "      <th>pdays</th>\n",
       "      <th>previous</th>\n",
       "      <th>y</th>\n",
       "    </tr>\n",
       "    <tr>\n",
       "      <th>job</th>\n",
       "      <th></th>\n",
       "      <th></th>\n",
       "      <th></th>\n",
       "      <th></th>\n",
       "      <th></th>\n",
       "      <th></th>\n",
       "      <th></th>\n",
       "      <th></th>\n",
       "    </tr>\n",
       "  </thead>\n",
       "  <tbody>\n",
       "    <tr>\n",
       "      <th>admin.</th>\n",
       "      <td>39.289886</td>\n",
       "      <td>1135.838909</td>\n",
       "      <td>15.564301</td>\n",
       "      <td>246.896732</td>\n",
       "      <td>2.575324</td>\n",
       "      <td>47.859021</td>\n",
       "      <td>0.671630</td>\n",
       "      <td>0.122027</td>\n",
       "    </tr>\n",
       "    <tr>\n",
       "      <th>blue-collar</th>\n",
       "      <td>40.044081</td>\n",
       "      <td>1078.826654</td>\n",
       "      <td>15.442561</td>\n",
       "      <td>262.901562</td>\n",
       "      <td>2.816995</td>\n",
       "      <td>44.033498</td>\n",
       "      <td>0.505138</td>\n",
       "      <td>0.072750</td>\n",
       "    </tr>\n",
       "    <tr>\n",
       "      <th>entrepreneur</th>\n",
       "      <td>42.190989</td>\n",
       "      <td>1521.470074</td>\n",
       "      <td>15.702085</td>\n",
       "      <td>256.309348</td>\n",
       "      <td>2.799597</td>\n",
       "      <td>32.486214</td>\n",
       "      <td>0.478144</td>\n",
       "      <td>0.082717</td>\n",
       "    </tr>\n",
       "    <tr>\n",
       "      <th>housemaid</th>\n",
       "      <td>46.415323</td>\n",
       "      <td>1392.395161</td>\n",
       "      <td>16.002419</td>\n",
       "      <td>245.825000</td>\n",
       "      <td>2.820968</td>\n",
       "      <td>21.505645</td>\n",
       "      <td>0.371774</td>\n",
       "      <td>0.087903</td>\n",
       "    </tr>\n",
       "    <tr>\n",
       "      <th>management</th>\n",
       "      <td>40.449567</td>\n",
       "      <td>1763.616832</td>\n",
       "      <td>16.114189</td>\n",
       "      <td>253.995771</td>\n",
       "      <td>2.864348</td>\n",
       "      <td>38.665468</td>\n",
       "      <td>0.668006</td>\n",
       "      <td>0.137556</td>\n",
       "    </tr>\n",
       "    <tr>\n",
       "      <th>retired</th>\n",
       "      <td>61.626767</td>\n",
       "      <td>1984.215106</td>\n",
       "      <td>15.439488</td>\n",
       "      <td>287.361307</td>\n",
       "      <td>2.346731</td>\n",
       "      <td>37.443905</td>\n",
       "      <td>0.638693</td>\n",
       "      <td>0.227915</td>\n",
       "    </tr>\n",
       "    <tr>\n",
       "      <th>self-employed</th>\n",
       "      <td>40.484484</td>\n",
       "      <td>1647.970868</td>\n",
       "      <td>16.027866</td>\n",
       "      <td>268.157061</td>\n",
       "      <td>2.853072</td>\n",
       "      <td>34.747308</td>\n",
       "      <td>0.551615</td>\n",
       "      <td>0.118429</td>\n",
       "    </tr>\n",
       "    <tr>\n",
       "      <th>services</th>\n",
       "      <td>38.740250</td>\n",
       "      <td>997.088108</td>\n",
       "      <td>15.635532</td>\n",
       "      <td>259.318729</td>\n",
       "      <td>2.718344</td>\n",
       "      <td>41.995185</td>\n",
       "      <td>0.501204</td>\n",
       "      <td>0.088830</td>\n",
       "    </tr>\n",
       "    <tr>\n",
       "      <th>student</th>\n",
       "      <td>26.542644</td>\n",
       "      <td>1388.060768</td>\n",
       "      <td>14.897655</td>\n",
       "      <td>246.656716</td>\n",
       "      <td>2.299574</td>\n",
       "      <td>57.041578</td>\n",
       "      <td>0.953092</td>\n",
       "      <td>0.286780</td>\n",
       "    </tr>\n",
       "    <tr>\n",
       "      <th>technician</th>\n",
       "      <td>39.314598</td>\n",
       "      <td>1252.632092</td>\n",
       "      <td>16.408582</td>\n",
       "      <td>252.904962</td>\n",
       "      <td>2.906805</td>\n",
       "      <td>37.195077</td>\n",
       "      <td>0.574569</td>\n",
       "      <td>0.110570</td>\n",
       "    </tr>\n",
       "    <tr>\n",
       "      <th>unemployed</th>\n",
       "      <td>40.961627</td>\n",
       "      <td>1521.745971</td>\n",
       "      <td>15.498081</td>\n",
       "      <td>288.543361</td>\n",
       "      <td>2.432080</td>\n",
       "      <td>34.146585</td>\n",
       "      <td>0.466616</td>\n",
       "      <td>0.155027</td>\n",
       "    </tr>\n",
       "    <tr>\n",
       "      <th>unknown</th>\n",
       "      <td>47.593750</td>\n",
       "      <td>1772.357639</td>\n",
       "      <td>14.642361</td>\n",
       "      <td>237.611111</td>\n",
       "      <td>3.309028</td>\n",
       "      <td>20.982639</td>\n",
       "      <td>0.319444</td>\n",
       "      <td>0.118056</td>\n",
       "    </tr>\n",
       "  </tbody>\n",
       "</table>\n",
       "</div>"
      ],
      "text/plain": [
       "                     age      balance        day    duration  campaign  \\\n",
       "job                                                                      \n",
       "admin.         39.289886  1135.838909  15.564301  246.896732  2.575324   \n",
       "blue-collar    40.044081  1078.826654  15.442561  262.901562  2.816995   \n",
       "entrepreneur   42.190989  1521.470074  15.702085  256.309348  2.799597   \n",
       "housemaid      46.415323  1392.395161  16.002419  245.825000  2.820968   \n",
       "management     40.449567  1763.616832  16.114189  253.995771  2.864348   \n",
       "retired        61.626767  1984.215106  15.439488  287.361307  2.346731   \n",
       "self-employed  40.484484  1647.970868  16.027866  268.157061  2.853072   \n",
       "services       38.740250   997.088108  15.635532  259.318729  2.718344   \n",
       "student        26.542644  1388.060768  14.897655  246.656716  2.299574   \n",
       "technician     39.314598  1252.632092  16.408582  252.904962  2.906805   \n",
       "unemployed     40.961627  1521.745971  15.498081  288.543361  2.432080   \n",
       "unknown        47.593750  1772.357639  14.642361  237.611111  3.309028   \n",
       "\n",
       "                   pdays  previous         y  \n",
       "job                                           \n",
       "admin.         47.859021  0.671630  0.122027  \n",
       "blue-collar    44.033498  0.505138  0.072750  \n",
       "entrepreneur   32.486214  0.478144  0.082717  \n",
       "housemaid      21.505645  0.371774  0.087903  \n",
       "management     38.665468  0.668006  0.137556  \n",
       "retired        37.443905  0.638693  0.227915  \n",
       "self-employed  34.747308  0.551615  0.118429  \n",
       "services       41.995185  0.501204  0.088830  \n",
       "student        57.041578  0.953092  0.286780  \n",
       "technician     37.195077  0.574569  0.110570  \n",
       "unemployed     34.146585  0.466616  0.155027  \n",
       "unknown        20.982639  0.319444  0.118056  "
      ]
     },
     "execution_count": 13,
     "metadata": {},
     "output_type": "execute_result"
    }
   ],
   "source": [
    "data.groupby(['job']).mean()"
   ]
  },
  {
   "cell_type": "code",
   "execution_count": 14,
   "metadata": {},
   "outputs": [
    {
     "data": {
      "text/html": [
       "<div>\n",
       "<style scoped>\n",
       "    .dataframe tbody tr th:only-of-type {\n",
       "        vertical-align: middle;\n",
       "    }\n",
       "\n",
       "    .dataframe tbody tr th {\n",
       "        vertical-align: top;\n",
       "    }\n",
       "\n",
       "    .dataframe thead th {\n",
       "        text-align: right;\n",
       "    }\n",
       "</style>\n",
       "<table border=\"1\" class=\"dataframe\">\n",
       "  <thead>\n",
       "    <tr style=\"text-align: right;\">\n",
       "      <th></th>\n",
       "      <th>age</th>\n",
       "      <th>balance</th>\n",
       "      <th>day</th>\n",
       "      <th>duration</th>\n",
       "      <th>campaign</th>\n",
       "      <th>pdays</th>\n",
       "      <th>previous</th>\n",
       "      <th>y</th>\n",
       "    </tr>\n",
       "    <tr>\n",
       "      <th>marital</th>\n",
       "      <th></th>\n",
       "      <th></th>\n",
       "      <th></th>\n",
       "      <th></th>\n",
       "      <th></th>\n",
       "      <th></th>\n",
       "      <th></th>\n",
       "      <th></th>\n",
       "    </tr>\n",
       "  </thead>\n",
       "  <tbody>\n",
       "    <tr>\n",
       "      <th>divorced</th>\n",
       "      <td>45.782984</td>\n",
       "      <td>1178.872287</td>\n",
       "      <td>15.796428</td>\n",
       "      <td>262.517188</td>\n",
       "      <td>2.630882</td>\n",
       "      <td>41.001728</td>\n",
       "      <td>0.551373</td>\n",
       "      <td>0.119455</td>\n",
       "    </tr>\n",
       "    <tr>\n",
       "      <th>married</th>\n",
       "      <td>43.408099</td>\n",
       "      <td>1425.925590</td>\n",
       "      <td>15.854487</td>\n",
       "      <td>253.412765</td>\n",
       "      <td>2.842875</td>\n",
       "      <td>37.950467</td>\n",
       "      <td>0.556552</td>\n",
       "      <td>0.101235</td>\n",
       "    </tr>\n",
       "    <tr>\n",
       "      <th>single</th>\n",
       "      <td>33.703440</td>\n",
       "      <td>1301.497654</td>\n",
       "      <td>15.708210</td>\n",
       "      <td>266.497967</td>\n",
       "      <td>2.649805</td>\n",
       "      <td>44.652385</td>\n",
       "      <td>0.642690</td>\n",
       "      <td>0.149492</td>\n",
       "    </tr>\n",
       "  </tbody>\n",
       "</table>\n",
       "</div>"
      ],
      "text/plain": [
       "                age      balance        day    duration  campaign      pdays  \\\n",
       "marital                                                                        \n",
       "divorced  45.782984  1178.872287  15.796428  262.517188  2.630882  41.001728   \n",
       "married   43.408099  1425.925590  15.854487  253.412765  2.842875  37.950467   \n",
       "single    33.703440  1301.497654  15.708210  266.497967  2.649805  44.652385   \n",
       "\n",
       "          previous         y  \n",
       "marital                       \n",
       "divorced  0.551373  0.119455  \n",
       "married   0.556552  0.101235  \n",
       "single    0.642690  0.149492  "
      ]
     },
     "execution_count": 14,
     "metadata": {},
     "output_type": "execute_result"
    }
   ],
   "source": [
    "data.groupby(['marital']).mean()"
   ]
  },
  {
   "cell_type": "code",
   "execution_count": 15,
   "metadata": {},
   "outputs": [
    {
     "data": {
      "text/html": [
       "<div>\n",
       "<style scoped>\n",
       "    .dataframe tbody tr th:only-of-type {\n",
       "        vertical-align: middle;\n",
       "    }\n",
       "\n",
       "    .dataframe tbody tr th {\n",
       "        vertical-align: top;\n",
       "    }\n",
       "\n",
       "    .dataframe thead th {\n",
       "        text-align: right;\n",
       "    }\n",
       "</style>\n",
       "<table border=\"1\" class=\"dataframe\">\n",
       "  <thead>\n",
       "    <tr style=\"text-align: right;\">\n",
       "      <th></th>\n",
       "      <th>age</th>\n",
       "      <th>balance</th>\n",
       "      <th>day</th>\n",
       "      <th>duration</th>\n",
       "      <th>campaign</th>\n",
       "      <th>pdays</th>\n",
       "      <th>previous</th>\n",
       "      <th>y</th>\n",
       "    </tr>\n",
       "    <tr>\n",
       "      <th>education</th>\n",
       "      <th></th>\n",
       "      <th></th>\n",
       "      <th></th>\n",
       "      <th></th>\n",
       "      <th></th>\n",
       "      <th></th>\n",
       "      <th></th>\n",
       "      <th></th>\n",
       "    </tr>\n",
       "  </thead>\n",
       "  <tbody>\n",
       "    <tr>\n",
       "      <th>primary</th>\n",
       "      <td>45.865567</td>\n",
       "      <td>1250.949934</td>\n",
       "      <td>15.421398</td>\n",
       "      <td>255.933002</td>\n",
       "      <td>2.834331</td>\n",
       "      <td>36.081740</td>\n",
       "      <td>0.489272</td>\n",
       "      <td>0.086265</td>\n",
       "    </tr>\n",
       "    <tr>\n",
       "      <th>secondary</th>\n",
       "      <td>39.964270</td>\n",
       "      <td>1154.880786</td>\n",
       "      <td>15.759159</td>\n",
       "      <td>258.685760</td>\n",
       "      <td>2.700802</td>\n",
       "      <td>42.353504</td>\n",
       "      <td>0.567753</td>\n",
       "      <td>0.105594</td>\n",
       "    </tr>\n",
       "    <tr>\n",
       "      <th>tertiary</th>\n",
       "      <td>39.593640</td>\n",
       "      <td>1758.416435</td>\n",
       "      <td>16.086535</td>\n",
       "      <td>258.518532</td>\n",
       "      <td>2.825577</td>\n",
       "      <td>39.024134</td>\n",
       "      <td>0.661980</td>\n",
       "      <td>0.150064</td>\n",
       "    </tr>\n",
       "    <tr>\n",
       "      <th>unknown</th>\n",
       "      <td>44.510501</td>\n",
       "      <td>1526.754443</td>\n",
       "      <td>15.810985</td>\n",
       "      <td>257.313947</td>\n",
       "      <td>2.849219</td>\n",
       "      <td>36.856220</td>\n",
       "      <td>0.488422</td>\n",
       "      <td>0.135703</td>\n",
       "    </tr>\n",
       "  </tbody>\n",
       "</table>\n",
       "</div>"
      ],
      "text/plain": [
       "                 age      balance        day    duration  campaign      pdays  \\\n",
       "education                                                                       \n",
       "primary    45.865567  1250.949934  15.421398  255.933002  2.834331  36.081740   \n",
       "secondary  39.964270  1154.880786  15.759159  258.685760  2.700802  42.353504   \n",
       "tertiary   39.593640  1758.416435  16.086535  258.518532  2.825577  39.024134   \n",
       "unknown    44.510501  1526.754443  15.810985  257.313947  2.849219  36.856220   \n",
       "\n",
       "           previous         y  \n",
       "education                      \n",
       "primary    0.489272  0.086265  \n",
       "secondary  0.567753  0.105594  \n",
       "tertiary   0.661980  0.150064  \n",
       "unknown    0.488422  0.135703  "
      ]
     },
     "execution_count": 15,
     "metadata": {},
     "output_type": "execute_result"
    }
   ],
   "source": [
    "data.groupby(['education']).mean()"
   ]
  },
  {
   "cell_type": "code",
   "execution_count": 16,
   "metadata": {},
   "outputs": [
    {
     "data": {
      "image/png": "[encoded data removed]",
      "text/plain": [
       "<Figure size 432x288 with 1 Axes>"
      ]
     },
     "metadata": {
      "needs_background": "light"
     },
     "output_type": "display_data"
    }
   ],
   "source": [
    "%matplotlib inline\n",
    "table=pd.crosstab(data.job,data.y).plot(kind='bar')\n",
    "plt.title('Purchase Frequency for Job Title')\n",
    "plt.xlabel('Job')\n",
    "plt.ylabel('Frequency of Purchase')\n",
    "plt.savefig('purchase_fre_job')"
   ]
  },
  {
   "cell_type": "code",
   "execution_count": 17,
   "metadata": {},
   "outputs": [
    {
     "data": {
      "image/png": "[encoded data removed]",
      "text/plain": [
       "<Figure size 432x288 with 1 Axes>"
      ]
     },
     "metadata": {
      "needs_background": "light"
     },
     "output_type": "display_data"
    }
   ],
   "source": [
    "table=pd.crosstab(data.marital,data.y)\n",
    "table.div(table.sum(1).astype(float), axis=0).plot(kind='bar', stacked=True)\n",
    "plt.title('Stacked Bar Chart of Marital Status vs Purchase')\n",
    "plt.xlabel('Marital Status')\n",
    "plt.ylabel('Proportion of Customers')\n",
    "plt.savefig('mariral_vs_pur_stack')"
   ]
  },
  {
   "cell_type": "code",
   "execution_count": 18,
   "metadata": {},
   "outputs": [
    {
     "data": {
      "image/png": "[encoded data removed]",
      "text/plain": [
       "<Figure size 432x288 with 1 Axes>"
      ]
     },
     "metadata": {
      "needs_background": "light"
     },
     "output_type": "display_data"
    }
   ],
   "source": [
    "table=pd.crosstab(data.education,data.y)\n",
    "table.div(table.sum(1).astype(float), axis=0).plot(kind='bar', stacked=True)\n",
    "plt.title('Stacked Bar Chart of Education vs Purchase')\n",
    "plt.xlabel('Education')\n",
    "plt.ylabel('Proportion of Customers')\n",
    "plt.savefig('edu_vs_pur_stack')"
   ]
  },
  {
   "cell_type": "code",
   "execution_count": 19,
   "metadata": {},
   "outputs": [
    {
     "data": {
      "image/png": "[encoded data removed]",
      "text/plain": [
       "<Figure size 432x288 with 1 Axes>"
      ]
     },
     "metadata": {
      "needs_background": "light"
     },
     "output_type": "display_data"
    }
   ],
   "source": [
    "pd.crosstab(data.day,data.y).plot(kind='bar')\n",
    "plt.title('Purchase Frequency for Day of Week')\n",
    "plt.xlabel('Day of Week')\n",
    "plt.ylabel('Frequency of Purchase')\n",
    "plt.savefig('pur_dayofweek_bar')\n"
   ]
  },
  {
   "cell_type": "code",
   "execution_count": 20,
   "metadata": {},
   "outputs": [
    {
     "data": {
      "image/png": "[encoded data removed]",
      "text/plain": [
       "<Figure size 432x288 with 1 Axes>"
      ]
     },
     "metadata": {
      "needs_background": "light"
     },
     "output_type": "display_data"
    }
   ],
   "source": [
    "pd.crosstab(data.month,data.y).plot(kind='bar')\n",
    "plt.title('Purchase Frequency for Month')\n",
    "plt.xlabel('Month')\n",
    "plt.ylabel('Frequency of Purchase')\n",
    "plt.savefig('pur_month_bar')\n"
   ]
  },
  {
   "cell_type": "code",
   "execution_count": 21,
   "metadata": {},
   "outputs": [
    {
     "data": {
      "text/plain": [
       "Text(0, 0.5, 'Frequency of Purchase')"
      ]
     },
     "execution_count": 21,
     "metadata": {},
     "output_type": "execute_result"
    },
    {
     "data": {
      "image/png": "[encoded data removed]",
      "text/plain": [
       "<Figure size 432x288 with 1 Axes>"
      ]
     },
     "metadata": {
      "needs_background": "light"
     },
     "output_type": "display_data"
    }
   ],
   "source": [
    "pd.crosstab(data.education,data.y).plot(kind='bar')\n",
    "plt.title('Purchase Frequency as per education')\n",
    "plt.xlabel('Education level')\n",
    "plt.ylabel('Frequency of Purchase')"
   ]
  },
  {
   "cell_type": "code",
   "execution_count": 22,
   "metadata": {},
   "outputs": [
    {
     "data": {
      "image/png": "[encoded data removed]",
      "text/plain": [
       "<Figure size 432x288 with 1 Axes>"
      ]
     },
     "metadata": {
      "needs_background": "light"
     },
     "output_type": "display_data"
    }
   ],
   "source": [
    "data.age.hist()\n",
    "plt.title('Histogram of Age')\n",
    "plt.xlabel('Age')\n",
    "plt.ylabel('Frequency')\n",
    "plt.savefig('hist_age')"
   ]
  },
  {
   "cell_type": "code",
   "execution_count": 23,
   "metadata": {},
   "outputs": [
    {
     "data": {
      "text/plain": [
       "Text(0, 0.5, 'Frequency')"
      ]
     },
     "execution_count": 23,
     "metadata": {},
     "output_type": "execute_result"
    },
    {
     "data": {
      "image/png": "[encoded data removed]",
      "text/plain": [
       "<Figure size 432x288 with 1 Axes>"
      ]
     },
     "metadata": {
      "needs_background": "light"
     },
     "output_type": "display_data"
    }
   ],
   "source": [
    "data.balance.hist()\n",
    "plt.title('Histogram of Balance')\n",
    "plt.xlabel('Balance')\n",
    "plt.ylabel('Frequency')"
   ]
  },
  {
   "cell_type": "code",
   "execution_count": 24,
   "metadata": {},
   "outputs": [
    {
     "data": {
      "image/png": "[encoded data removed]",
      "text/plain": [
       "<Figure size 432x288 with 1 Axes>"
      ]
     },
     "metadata": {
      "needs_background": "light"
     },
     "output_type": "display_data"
    }
   ],
   "source": [
    "pd.crosstab(data.poutcome,data.y).plot(kind='bar')\n",
    "plt.title('Purchase Frequency for Poutcome')\n",
    "plt.xlabel('Poutcome')\n",
    "plt.ylabel('Frequency of Purchase')\n",
    "plt.savefig('pur_fre_pout_bar')"
   ]
  },
  {
   "cell_type": "code",
   "execution_count": 25,
   "metadata": {},
   "outputs": [],
   "source": [
    "cat_vars=['job','marital','education','default','housing','loan','contact','month','day','poutcome','campaign']\n",
    "for var in cat_vars:\n",
    "    cat_list='var'+'_'+var\n",
    "    cat_list = pd.get_dummies(data[var], prefix=var)\n",
    "    data1=data.join(cat_list)\n",
    "    data=data1\n",
    "cat_vars=['job','marital','education','default','housing','loan','contact','month','week','poutcome','campaign']\n",
    "data_vars=data.columns.values.tolist()\n",
    "to_keep=[i for i in data_vars if i not in cat_vars]"
   ]
  },
  {
   "cell_type": "code",
   "execution_count": 26,
   "metadata": {},
   "outputs": [
    {
     "data": {
      "text/plain": [
       "array(['age', 'balance', 'day', 'duration', 'pdays', 'previous', 'y',\n",
       "       'job_admin.', 'job_blue-collar', 'job_entrepreneur',\n",
       "       'job_housemaid', 'job_management', 'job_retired',\n",
       "       'job_self-employed', 'job_services', 'job_student',\n",
       "       'job_technician', 'job_unemployed', 'job_unknown',\n",
       "       'marital_divorced', 'marital_married', 'marital_single',\n",
       "       'education_primary', 'education_secondary', 'education_tertiary',\n",
       "       'education_unknown', 'default_no', 'default_yes', 'housing_no',\n",
       "       'housing_yes', 'loan_no', 'loan_yes', 'contact_cellular',\n",
       "       'contact_telephone', 'contact_unknown', 'month_apr', 'month_aug',\n",
       "       'month_dec', 'month_feb', 'month_jan', 'month_jul', 'month_jun',\n",
       "       'month_mar', 'month_may', 'month_nov', 'month_oct', 'month_sep',\n",
       "       'day_1', 'day_2', 'day_3', 'day_4', 'day_5', 'day_6', 'day_7',\n",
       "       'day_8', 'day_9', 'day_10', 'day_11', 'day_12', 'day_13', 'day_14',\n",
       "       'day_15', 'day_16', 'day_17', 'day_18', 'day_19', 'day_20',\n",
       "       'day_21', 'day_22', 'day_23', 'day_24', 'day_25', 'day_26',\n",
       "       'day_27', 'day_28', 'day_29', 'day_30', 'day_31',\n",
       "       'poutcome_failure', 'poutcome_other', 'poutcome_success',\n",
       "       'poutcome_unknown', 'campaign_1', 'campaign_2', 'campaign_3',\n",
       "       'campaign_4', 'campaign_5', 'campaign_6', 'campaign_7',\n",
       "       'campaign_8', 'campaign_9', 'campaign_10', 'campaign_11',\n",
       "       'campaign_12', 'campaign_13', 'campaign_14', 'campaign_15',\n",
       "       'campaign_16', 'campaign_17', 'campaign_18', 'campaign_19',\n",
       "       'campaign_20', 'campaign_21', 'campaign_22', 'campaign_23',\n",
       "       'campaign_24', 'campaign_25', 'campaign_26', 'campaign_27',\n",
       "       'campaign_28', 'campaign_29', 'campaign_30', 'campaign_31',\n",
       "       'campaign_32', 'campaign_33', 'campaign_34', 'campaign_35',\n",
       "       'campaign_36', 'campaign_37', 'campaign_38', 'campaign_39',\n",
       "       'campaign_41', 'campaign_43', 'campaign_44', 'campaign_46',\n",
       "       'campaign_50', 'campaign_51', 'campaign_55', 'campaign_58',\n",
       "       'campaign_63'], dtype=object)"
      ]
     },
     "execution_count": 26,
     "metadata": {},
     "output_type": "execute_result"
    }
   ],
   "source": [
    "data_final=data[to_keep]\n",
    "data_final.columns.values"
   ]
  },
  {
   "cell_type": "code",
   "execution_count": 27,
   "metadata": {},
   "outputs": [
    {
     "name": "stderr",
     "output_type": "stream",
     "text": [
      "Using TensorFlow backend.\n"
     ]
    },
    {
     "name": "stdout",
     "output_type": "stream",
     "text": [
      "length of oversampled data is  55906\n",
      "Number of no subscription in oversampled data 27953\n",
      "Number of subscription 27953\n",
      "Proportion of no subscription data in oversampled data is  0.5\n",
      "Proportion of subscription data in oversampled data is  0.5\n"
     ]
    }
   ],
   "source": [
    "X = data_final.loc[:, data_final.columns != 'y']\n",
    "y = data_final.loc[:, data_final.columns == 'y']\n",
    "from imblearn.over_sampling import SMOTE\n",
    "os = SMOTE(random_state=0)\n",
    "X_train, X_test, y_train, y_test = train_test_split(X, y, test_size=0.3, random_state=0)\n",
    "columns = X_train.columns\n",
    "os_data_X,os_data_y=os.fit_sample(X_train, y_train.values.ravel())\n",
    "os_data_X = pd.DataFrame(data=os_data_X,columns=columns )\n",
    "os_data_y= pd.DataFrame(data=os_data_y,columns=['y'])\n",
    "\n",
    "print(\"length of oversampled data is \",len(os_data_X))\n",
    "print(\"Number of no subscription in oversampled data\",len(os_data_y[os_data_y['y']==0]))\n",
    "print(\"Number of subscription\",len(os_data_y[os_data_y['y']==1]))\n",
    "print(\"Proportion of no subscription data in oversampled data is \",len(os_data_y[os_data_y['y']==0])/len(os_data_X))\n",
    "print(\"Proportion of subscription data in oversampled data is \",len(os_data_y[os_data_y['y']==1])/len(os_data_X))"
   ]
  },
  {
   "cell_type": "code",
   "execution_count": 28,
   "metadata": {},
   "outputs": [
    {
     "name": "stdout",
     "output_type": "stream",
     "text": [
      "[False False False False False False False False False False False False\n",
      " False False False False False False  True  True  True False False False\n",
      " False False False False False False False False False False False False\n",
      " False False False False False False False False False False False False\n",
      " False False  True  True  True  True  True False  True False False  True\n",
      " False False  True  True  True  True  True False False False False  True\n",
      "  True  True  True False  True False False False False False False False\n",
      " False False False False False False False False False False False False\n",
      " False False False False False False False False False False False False\n",
      " False False False False False False False False False False False False\n",
      " False False False False False False False False False]\n",
      "[100 105  95  96 104 101  27  21  20  22  26  31  25  23  30  24  29  28\n",
      "   1   1   1  16  17  19  18  37  38  36  35  41  40  85  84  43  50  44\n",
      "  52  49  45  46  51  55  48  47  53  54  15   5  12   8   1   1   1   1\n",
      "   1  14   1   9   7   1   4   6   1   1   1   1   1  10   2   3  11   1\n",
      "   1   1   1  13   1  33  34  56  32  79  76  78  73  71  65  68  67  64\n",
      "  72  77  39  62  59  75  66  74  57  42  69  60  61  58  89  70  80  82\n",
      "  63  91  87  81  92  83  86  88  90  94  97 106 107  93  98 109  99 103\n",
      " 108 102 110]\n"
     ]
    }
   ],
   "source": [
    "data_final_vars=data_final.columns.values.tolist()\n",
    "y=['y']\n",
    "X=[i for i in data_final_vars if i not in y]\n",
    "from sklearn.feature_selection import RFE\n",
    "from sklearn.linear_model import LogisticRegression\n",
    "logreg = LogisticRegression(solver='liblinear')\n",
    "rfe = RFE(logreg, 20)\n",
    "rfe = rfe.fit(os_data_X, os_data_y.values.ravel())\n",
    "print(rfe.support_)\n",
    "print(rfe.ranking_)"
   ]
  },
  {
   "cell_type": "code",
   "execution_count": 29,
   "metadata": {},
   "outputs": [],
   "source": [
    "cols=['job_unknown','marital_divorced','marital_married','day_4','day_5','day_6','day_7','day_8','day_10','day_13','day_16','day_17','day_18','day_19','day_20','day_25','day_26','day_27','day_28','day_30']\n",
    "X=os_data_X[cols]\n",
    "y=os_data_y['y']"
   ]
  },
  {
   "cell_type": "code",
   "execution_count": 30,
   "metadata": {},
   "outputs": [
    {
     "data": {
      "text/plain": [
       "LogisticRegression(C=1.0, class_weight=None, dual=False, fit_intercept=True,\n",
       "          intercept_scaling=1, max_iter=100, multi_class='warn',\n",
       "          n_jobs=None, penalty='l2', random_state=None, solver='lbfgs',\n",
       "          tol=0.0001, verbose=0, warm_start=False)"
      ]
     },
     "execution_count": 30,
     "metadata": {},
     "output_type": "execute_result"
    }
   ],
   "source": [
    "from sklearn.linear_model import LogisticRegression\n",
    "from sklearn import metrics\n",
    "X_train, X_test, y_train, y_test = train_test_split(X, y, test_size=0.4, random_state=0)\n",
    "logreg = LogisticRegression(solver='lbfgs')\n",
    "logreg.fit(X_train, y_train)"
   ]
  },
  {
   "cell_type": "code",
   "execution_count": 31,
   "metadata": {},
   "outputs": [
    {
     "name": "stdout",
     "output_type": "stream",
     "text": [
      "Accuracy of logistic regression classifier on test set: 0.77\n"
     ]
    }
   ],
   "source": [
    "y_pred = logreg.predict(X_test)\n",
    "print('Accuracy of logistic regression classifier on test set: {:.2f}'.format(logreg.score(X_test, y_test)))"
   ]
  },
  {
   "cell_type": "code",
   "execution_count": 32,
   "metadata": {},
   "outputs": [
    {
     "name": "stdout",
     "output_type": "stream",
     "text": [
      "[[7356 3806]\n",
      " [1356 9845]]\n"
     ]
    }
   ],
   "source": [
    "from sklearn.metrics import confusion_matrix\n",
    "confusion_matrix = confusion_matrix(y_test, y_pred)\n",
    "print(confusion_matrix)"
   ]
  },
  {
   "cell_type": "code",
   "execution_count": 33,
   "metadata": {},
   "outputs": [
    {
     "name": "stdout",
     "output_type": "stream",
     "text": [
      "              precision    recall  f1-score   support\n",
      "\n",
      "           0       0.84      0.66      0.74     11162\n",
      "           1       0.72      0.88      0.79     11201\n",
      "\n",
      "   micro avg       0.77      0.77      0.77     22363\n",
      "   macro avg       0.78      0.77      0.77     22363\n",
      "weighted avg       0.78      0.77      0.77     22363\n",
      "\n"
     ]
    }
   ],
   "source": [
    "from sklearn.metrics import classification_report\n",
    "print(classification_report(y_test, y_pred))\n"
   ]
  },
  {
   "cell_type": "code",
   "execution_count": 34,
   "metadata": {},
   "outputs": [
    {
     "data": {
      "image/png": "[encoded data removed]",
      "text/plain": [
       "<Figure size 432x288 with 1 Axes>"
      ]
     },
     "metadata": {
      "needs_background": "light"
     },
     "output_type": "display_data"
    }
   ],
   "source": [
    "from sklearn.metrics import roc_auc_score\n",
    "from sklearn.metrics import roc_curve\n",
    "logit_roc_auc = roc_auc_score(y_test, logreg.predict(X_test))\n",
    "fpr, tpr, thresholds = roc_curve(y_test, logreg.predict_proba(X_test)[:,1])\n",
    "plt.figure()\n",
    "plt.plot(fpr, tpr, label='Logistic Regression (area = %0.2f)' % logit_roc_auc)\n",
    "plt.plot([0, 1], [0, 1],'r--')\n",
    "plt.xlim([0.0, 1.0])\n",
    "plt.ylim([0.0, 1.05])\n",
    "plt.xlabel('False Positive Rate')\n",
    "plt.ylabel('True Positive Rate')\n",
    "plt.title('Receiver operating characteristic')\n",
    "plt.legend(loc=\"lower right\")\n",
    "plt.savefig('Log_ROC')\n",
    "plt.show()"
   ]
  }
 ],
 "metadata": {
  "kernelspec": {
   "display_name": "Python 3",
   "language": "python",
   "name": "python3"
  },
  "language_info": {
   "codemirror_mode": {
    "name": "ipython",
    "version": 3
   },
   "file_extension": ".py",
   "mimetype": "text/x-python",
   "name": "python",
   "nbconvert_exporter": "python",
   "pygments_lexer": "ipython3",
   "version": "3.7.3"
  }
 },
 "nbformat": 4,
 "nbformat_minor": 2
}
